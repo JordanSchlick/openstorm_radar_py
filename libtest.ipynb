{
 "cells": [
  {
   "cell_type": "code",
   "execution_count": null,
   "metadata": {},
   "outputs": [],
   "source": [
    "# build module\n",
    "!python setup.py build -j 8"
   ]
  },
  {
   "cell_type": "code",
   "execution_count": null,
   "metadata": {},
   "outputs": [],
   "source": [
    "import sys\n",
    "import os\n",
    "import numpy as np\n",
    "import time\n",
    "import math\n",
    "import matplotlib.animation\n",
    "import IPython\n",
    "from matplotlib import pyplot as plt\n",
    "\n",
    "#%config InlineBackend.figure_formats = ['svg']\n",
    "#%config InlineBackend.figure_formats = ['jpeg']\n",
    "%config InlineBackend.figure_formats = ['retina']\n",
    "#%config InlineBackend.figure_formats = ['png']\n",
    "plt.rcParams['svg.fonttype'] = 'none'\n",
    "plt.rcParams[\"figure.figsize\"] = (7, 7)\n",
    "\n",
    "\n",
    "sys.path.insert(0, '../')\n",
    "import openstorm_radar_py"
   ]
  },
  {
   "cell_type": "code",
   "execution_count": null,
   "metadata": {},
   "outputs": [],
   "source": [
    "# RadarData is the most basic unit of OpenStorm radar and contains a single volume of radar\n",
    "radar_data = openstorm_radar_py.RadarData()\n",
    "# load file and extract a single basic radar type. \n",
    "# These files can be found in the release of OpenStorm, copy them into the git repo for this to work.\n",
    "#radar_data.load_nexrad_file(\"../OpenStorm/Content/Data/Demo/KMKX_20220723_235820\", openstorm_radar_py.VolumeTypes.VOLUME_REFLECTIVITY)\n",
    "#radar_data.load_nexrad_file(\"../OpenStorm/Content/Data/Demo/KTLX20130531_231434_V06\", openstorm_radar_py.VolumeTypes.VOLUME_REFLECTIVITY)\n",
    "radar_data.load_nexrad_file(\"../OpenStorm/Content/Data/Demo/KLCH20200827_034044_V06\", openstorm_radar_py.VolumeTypes.VOLUME_REFLECTIVITY)\n",
    "if 0:\n",
    "\trealtime_data_dir = \"../radar-data/data/KMKX/\"\n",
    "\tradar_data.load_nexrad_file(realtime_data_dir + os.listdir(realtime_data_dir)[-1], openstorm_radar_py.VolumeTypes.VOLUME_REFLECTIVITY)"
   ]
  },
  {
   "cell_type": "code",
   "execution_count": null,
   "metadata": {},
   "outputs": [],
   "source": [
    "# get information about the radar volume\n",
    "stats = radar_data.get_stats()\n",
    "stats"
   ]
  },
  {
   "cell_type": "code",
   "execution_count": null,
   "metadata": {},
   "outputs": [],
   "source": [
    "sweepInfo = radar_data.get_sweep_info()\n",
    "sweepInfo"
   ]
  },
  {
   "cell_type": "code",
   "execution_count": null,
   "metadata": {},
   "outputs": [],
   "source": [
    "# convert to numpy array\n",
    "# there are 2 duplicated rays in each sweep that are used for padding for interpolation. In most cases they should be ignored or removed like below.\n",
    "# The first dimension is the sweep the second is the rotation and the third is the distance away from the radar.\n",
    "# You will see the dimensions refereed to as sweep, theta, and radius in code.\n",
    "print(radar_data.buffer)\n",
    "buffer = np.array(radar_data.buffer)[:,1:-1,:]\n",
    "print(buffer.shape)"
   ]
  },
  {
   "cell_type": "code",
   "execution_count": null,
   "metadata": {},
   "outputs": [],
   "source": [
    "# get a pixel's position for a latitude and longitude\n",
    "location = radar_data.get_pixel_for_location(stats[\"latitude\"] - 1, stats[\"longitude\"] + 1, 3000)\n",
    "print(\"get_pixel_for_location output\", location)\n",
    "try:\n",
    "\t# get pixel in buffer\n",
    "\tpixel_location = (math.floor(location[\"sweep\"]), math.floor(location[\"theta\"]), math.floor(location[\"radius\"]))\n",
    "\tprint(\"pixel location:\", pixel_location)\n",
    "\tprint(\"pixel value:\", buffer[pixel_location[0], pixel_location[1], pixel_location[2]])\n",
    "except:\n",
    "\tpass\n",
    "\n",
    "# invalid example below lowest sweep\n",
    "print(\"invalid output\", radar_data.get_pixel_for_location(stats[\"latitude\"] - 0.1, stats[\"longitude\"] + 0.1, 0))\n",
    "print(\"radar space location\", radar_data.get_radar_space_for_location(stats[\"latitude\"] - 0.1, stats[\"longitude\"] + 0.1, 0))\n"
   ]
  },
  {
   "cell_type": "code",
   "execution_count": null,
   "metadata": {},
   "outputs": [],
   "source": [
    "# a function to correctly plot sweep buffers\n",
    "def plot_radial_image(buffer):\n",
    "\ttheta, rad = np.meshgrid(np.linspace(np.pi * 2.5, np.pi * 0.5, buffer.shape[0]), np.linspace(0, buffer.shape[1], buffer.shape[1]))\n",
    "\t#print(theta.shape, rad.shape)\n",
    "\tfig = plt.figure()\n",
    "\tax = fig.add_subplot(111, polar='True')\n",
    "\tax.pcolormesh(theta, rad, np.transpose(buffer), shading='auto')\n",
    "\tplt.show()"
   ]
  },
  {
   "cell_type": "code",
   "execution_count": null,
   "metadata": {},
   "outputs": [],
   "source": [
    "plot_radial_image(buffer[0,:,:1000])\n",
    "#plot_radial_image(np.clip(buffer[5,:,:1000], -100, 100))"
   ]
  },
  {
   "cell_type": "code",
   "execution_count": null,
   "metadata": {},
   "outputs": [],
   "source": [
    "\n",
    "# plot entire buffer on rectangular image\n",
    "fig = plt.figure(figsize=(12,12))\n",
    "ax = fig.add_subplot()\n",
    "ax.imshow(np.concatenate(buffer), interpolation='nearest')\n",
    "plt.show()\n",
    "#plt.imshow(np.flattennp.clip(buffer[0], -20, 100), interpolation='nearest')"
   ]
  },
  {
   "cell_type": "code",
   "execution_count": null,
   "metadata": {},
   "outputs": [],
   "source": [
    "# plot each sweep\n",
    "fig = plt.figure(figsize=(12,12))\n",
    "radiusShown = min(1000, buffer.shape[2])\n",
    "theta, rad = np.meshgrid(np.linspace(np.pi * 2.5, np.pi * 0.5, buffer.shape[1]), np.linspace(0, 1, radiusShown))\n",
    "for i in range(buffer.shape[0]):\n",
    "\tax = fig.add_subplot(math.ceil(math.sqrt(buffer.shape[0])), math.ceil(math.sqrt(buffer.shape[0])), i + 1, polar='True')\n",
    "\tar = ax.pcolormesh(theta, rad, np.transpose(buffer[i,:,:radiusShown]), shading='auto')\n",
    "plt.show()"
   ]
  },
  {
   "cell_type": "code",
   "execution_count": null,
   "metadata": {},
   "outputs": [],
   "source": [
    "# make an animation out of the files in a directory\n",
    "if 0:\n",
    "\tprint(\"start animation\", end='\\r')\n",
    "\tfig = plt.figure(figsize=(12,12))\n",
    "\tax = fig.add_subplot(111, polar='True')\n",
    "\n",
    "\tanimation_data_dir = \"../files/hurricane/\"\n",
    "\tanimation_data_files = list(map(lambda x: animation_data_dir + x, os.listdir(animation_data_dir)))\n",
    "\n",
    "\tdef drawframe(frame):\n",
    "\t\tprint(\"frame\", frame + 1, \"             \", end='\\r')\n",
    "\t\ttime.sleep(0.05)\n",
    "\t\tradar_data.load_nexrad_file(animation_data_files[frame], openstorm_radar_py.VolumeTypes.VOLUME_REFLECTIVITY)\n",
    "\t\tprint(\"frame\", frame + 1, \"loaded       \", end='\\r')\n",
    "\t\tbuffer = np.array(radar_data.buffer)[0,1:-1,:1000]\n",
    "\t\ttheta, rad = np.meshgrid(np.linspace(np.pi * 2.5, np.pi * 0.5, buffer.shape[0]), np.linspace(0, 1, buffer.shape[1]))\n",
    "\t\tax.clear()\n",
    "\t\tar = ax.pcolormesh(theta, rad, np.transpose(buffer), shading='auto')\n",
    "\t\treturn tuple([ar])\n",
    "\tanim = matplotlib.animation.FuncAnimation(fig, drawframe, frames=len(animation_data_files), interval=1000/30, blit=True)\n",
    "\tIPython.display.display(IPython.display.HTML(anim.to_html5_video()))\n",
    "\tplt.close()"
   ]
  },
  {
   "cell_type": "code",
   "execution_count": null,
   "metadata": {},
   "outputs": [],
   "source": [
    "#radar_data = None"
   ]
  },
  {
   "cell_type": "code",
   "execution_count": null,
   "metadata": {},
   "outputs": [],
   "source": [
    "# create RadarDataHolder object\n",
    "radar_data_holder = openstorm_radar_py.RadarDataHolder()"
   ]
  },
  {
   "cell_type": "code",
   "execution_count": null,
   "metadata": {},
   "outputs": [],
   "source": [
    "# select products to be loaded\n",
    "reflectivity_product = radar_data_holder.get_product(openstorm_radar_py.VolumeTypes.VOLUME_REFLECTIVITY)\n",
    "velocity_product = radar_data_holder.get_product(openstorm_radar_py.VolumeTypes.VOLUME_VELOCITY)\n",
    "# derived products\n",
    "srv_product = radar_data_holder.get_product(openstorm_radar_py.VolumeTypes.VOLUME_STORM_RELATIVE_VELOCITY)\n",
    "rotation_product = radar_data_holder.get_product(openstorm_radar_py.VolumeTypes.VOLUME_ROTATION)"
   ]
  },
  {
   "cell_type": "code",
   "execution_count": null,
   "metadata": {},
   "outputs": [],
   "source": [
    "# load file\n",
    "radar_data_holder.load(\"../OpenStorm/Content/Data/Demo/KTLX20130531_231434_V06\")\n",
    "#radar_data_holder.load(\"../files/el-reno/compressed/KTLX20130531_231434_V06.gz\")\n",
    "# wait for it to finish loading because RadarDataHolder is asynchronous and multi-threaded\n",
    "while(radar_data_holder.get_state() == openstorm_radar_py.RadarDataHolder.DataStateLoading):\n",
    "\tprint(\"loading...\", end='\\r')\n",
    "\ttime.sleep(0.1)\n",
    "print(\"loaded      \", end='\\n')"
   ]
  },
  {
   "cell_type": "code",
   "execution_count": null,
   "metadata": {},
   "outputs": [],
   "source": [
    "# get now loaded RadarData objects from products\n",
    "print(\"is reflectivity loaded?\", reflectivity_product.is_loaded(), \"   is velocity loaded?\", velocity_product.is_loaded(), \"   is srv loaded?\", srv_product.is_loaded(), \"   is rotation loaded?\", rotation_product.is_loaded())\n",
    "reflectivity_data = reflectivity_product.get_radar_data()\n",
    "velocity_data = velocity_product.get_radar_data()\n",
    "srv_data = srv_product.get_radar_data()\n",
    "rotation_data = rotation_product.get_radar_data()\n",
    "velocity_data.get_stats()"
   ]
  },
  {
   "cell_type": "code",
   "execution_count": null,
   "metadata": {},
   "outputs": [],
   "source": [
    "print(reflectivity_data._ptr, velocity_data._ptr, rotation_data._ptr, srv_data._ptr)\n",
    "print(reflectivity_data.buffer)\n",
    "#time.sleep(1)\n",
    "plot_radial_image(np.array(reflectivity_data.buffer)[0,1:-1,:1000])\n",
    "#time.sleep(0.5)\n",
    "plot_radial_image(np.array(velocity_data.buffer)[0,1:-1,:1000])\n",
    "#time.sleep(0.5)\n",
    "plot_radial_image(np.clip(np.array(srv_data.buffer),-10, 10)[0,1:-1,:1000])\n",
    "#time.sleep(0.5)\n",
    "plot_radial_image(np.array(rotation_data.buffer)[0,1:-1,:1000])"
   ]
  },
  {
   "cell_type": "code",
   "execution_count": null,
   "metadata": {},
   "outputs": [],
   "source": [
    "# radar data will only be freed after radar_data_holder goes out of scope or is unloaded and all references to the radar data are gone\n",
    "if 0:\n",
    "\tradar_data_holder.unload()\n",
    "\treflectivity_data = None\n",
    "\trotation_data = None\n",
    "\tsrv_data = None\n",
    "\treflectivity_product = None\n",
    "\trotation_product = None\n",
    "\tsrv_product = None\n",
    "\t\n",
    "\tradar_data = None"
   ]
  },
  {
   "cell_type": "code",
   "execution_count": null,
   "metadata": {},
   "outputs": [],
   "source": [
    "def stress_test():\n",
    "\tfor i  in range(10000):\n",
    "\t\tradar_data_holder = openstorm_radar_py.RadarDataHolder()\n",
    "\t\treflectivity_product = radar_data_holder.get_product(openstorm_radar_py.VolumeTypes.VOLUME_REFLECTIVITY)\n",
    "\t\tvelocity_product = radar_data_holder.get_product(openstorm_radar_py.VolumeTypes.VOLUME_VELOCITY_DEALIASED)\n",
    "\t\tradar_data_holder.load(\"../OpenStorm/Content/Data/Demo/KTLX20130531_231434_V06\")\n",
    "\t\twhile(radar_data_holder.get_state() == openstorm_radar_py.RadarDataHolder.DataStateLoading):\n",
    "\t\t\tprint(\"loading...\", end='\\r')\n",
    "\t\t\ttime.sleep(0.1)\n",
    "\t\tprint(\"loaded\", i+1, \"      \", end='\\n')\n",
    "\t\treflectivity_data = reflectivity_product.get_radar_data()\n",
    "\t\tvelocity_data = velocity_product.get_radar_data()\n",
    "\t\tbuffer = np.array(reflectivity_data.buffer)[0,1:-1,:1000]\n",
    "\t\tbuffer = np.array(velocity_data.buffer)[0,1:-1,:]\n",
    "#stress_test()"
   ]
  },
  {
   "cell_type": "code",
   "execution_count": null,
   "metadata": {},
   "outputs": [],
   "source": [
    "# plot data in real time\n",
    "radar_data_realtime = openstorm_radar_py.RadarData(5, 720, 1000)\n",
    "while 0:\n",
    "\trealtime_data_dir = \"../radar-data/data/KMKX/\"\n",
    "\tradar_data_realtime = openstorm_radar_py.RadarData()\n",
    "\tradar_data_realtime.load_nexrad_file(realtime_data_dir + os.listdir(realtime_data_dir)[-1], openstorm_radar_py.VolumeTypes.VOLUME_REFLECTIVITY)\n",
    "\tif radar_data_realtime.buffer is None:\n",
    "\t\ttime.sleep(1)\n",
    "\t\tcontinue\n",
    "\tbuffer = np.array(radar_data_realtime.buffer)[:,1:-1,:]\n",
    "\tfig = plt.figure(figsize=(12,12))\n",
    "\tradiusShown = min(1000, buffer.shape[2])\n",
    "\ttheta, rad = np.meshgrid(np.linspace(np.pi * 2.5, np.pi * 0.5, buffer.shape[1]), np.linspace(0, 1, radiusShown))\n",
    "\tfor i in range(buffer.shape[0]):\n",
    "\t\tax = fig.add_subplot(math.ceil(math.sqrt(buffer.shape[0])), math.ceil(math.sqrt(buffer.shape[0])), i + 1, polar='True')\n",
    "\t\tar = ax.pcolormesh(theta, rad, np.transpose(buffer[i,:,:radiusShown]), shading='auto')\n",
    "\tIPython.display.clear_output(wait=True)\n",
    "\tplt.show()"
   ]
  },
  {
   "cell_type": "code",
   "execution_count": null,
   "metadata": {},
   "outputs": [],
   "source": [
    "# recompress archive to gzip for faster loading but somewhat larger files\n",
    "def recompress_test(file_name):\n",
    "\tsize_before = os.path.getsize(file_name)\n",
    "\topenstorm_radar_py.recompress_nexrad_archive(file_name, \"tmp_radar_file_test\")\n",
    "\tsize_after = os.path.getsize(\"tmp_radar_file_test\")\n",
    "\tos.unlink(\"tmp_radar_file_test\")\n",
    "\tprint(\"before:\", size_before, \"after recompress:\", size_after, \"ratio:\", size_after / size_before)\n",
    "\n",
    "print(\"from bzip2 KLCH20200827_034044_V06\")\n",
    "recompress_test(\"../OpenStorm/Content/Data/Demo/KLCH20200827_034044_V06\")\n",
    "print(\"from bzip2 KMKX_20220723_235820\")\n",
    "recompress_test(\"../OpenStorm/Content/Data/Demo/KMKX_20220723_235820\")\n",
    "print(\"from uncompressed KTLX20130531_231434_V06\")\n",
    "recompress_test(\"../OpenStorm/Content/Data/Demo/KTLX20130531_231434_V06\")\n",
    "print(\"from gzip KHTX20110427_220236_V03\")\n",
    "recompress_test(\"../files/tornado-2011/KHTX20110427_220236_V03.gz\")"
   ]
  }
 ],
 "metadata": {
  "kernelspec": {
   "display_name": "base",
   "language": "python",
   "name": "python3"
  },
  "language_info": {
   "codemirror_mode": {
    "name": "ipython",
    "version": 3
   },
   "file_extension": ".py",
   "mimetype": "text/x-python",
   "name": "python",
   "nbconvert_exporter": "python",
   "pygments_lexer": "ipython3",
   "version": "3.9.7"
  },
  "orig_nbformat": 4,
  "vscode": {
   "interpreter": {
    "hash": "ad2bdc8ecc057115af97d19610ffacc2b4e99fae6737bb82f5d7fb13d2f2c186"
   }
  }
 },
 "nbformat": 4,
 "nbformat_minor": 2
}
